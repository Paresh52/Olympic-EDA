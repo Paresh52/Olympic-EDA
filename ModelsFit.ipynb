{
 "cells": [
  {
   "cell_type": "code",
   "execution_count": 21,
   "metadata": {},
   "outputs": [],
   "source": [
    "from sklearn.linear_model import LogisticRegression\n",
    "from sklearn.metrics import classification_report, accuracy_score\n",
    "from sklearn.model_selection import TimeSeriesSplit, train_test_split\n",
    "import numpy as np\n",
    "import pandas as pd\n",
    "import matplotlib.pyplot as plt\n",
    "from sklearn.cluster import KMeans\n",
    "import matplotlib\n",
    "from sklearn.tree import DecisionTreeClassifier\n",
    "from sklearn.metrics import classification_report, accuracy_score\n",
    "from sklearn.naive_bayes import GaussianNB\n",
    "from sklearn import metrics\n",
    "from sklearn.svm import LinearSVC\n",
    "import pylab as pl\n",
    "from sklearn.ensemble import RandomForestClassifier\n",
    "import warnings\n",
    "warnings.filterwarnings('ignore')\n"
   ]
  },
  {
   "cell_type": "code",
   "execution_count": 22,
   "metadata": {},
   "outputs": [],
   "source": [
    "\n",
    "#Algorithm 1 : Logistic Regression\n"
   ]
  },
  {
   "cell_type": "code",
   "execution_count": 23,
   "metadata": {},
   "outputs": [],
   "source": [
    "import pandas as pd\n",
    "\n",
    "data = pd.read_csv('olympics_final_final.csv')"
   ]
  },
  {
   "cell_type": "code",
   "execution_count": 24,
   "metadata": {},
   "outputs": [],
   "source": [
    "data1= pd.DataFrame(data[['Sex','Age','Height','Weight','Team','Event']])\n",
    "X_train, X_test, Y_train, Y_test = train_test_split(data1, data['Medal_Won'],test_size=0.30, random_state=99)"
   ]
  },
  {
   "cell_type": "code",
   "execution_count": 25,
   "metadata": {},
   "outputs": [
    {
     "name": "stdout",
     "output_type": "stream",
     "text": [
      "Accuracy 85.7\n",
      "              precision    recall  f1-score   support\n",
      "\n",
      "           0   0.856971  1.000000  0.922977     40659\n",
      "           1   0.000000  0.000000  0.000000      2326\n",
      "           2   0.000000  0.000000  0.000000      2200\n",
      "           3   0.000000  0.000000  0.000000      2260\n",
      "\n",
      "    accuracy                       0.856971     47445\n",
      "   macro avg   0.214243  0.250000  0.230744     47445\n",
      "weighted avg   0.734400  0.856971  0.790965     47445\n",
      "\n",
      "Predicted      0    All\n",
      "Actual                 \n",
      "0          40659  40659\n",
      "1           2326   2326\n",
      "2           2200   2200\n",
      "3           2260   2260\n",
      "All        47445  47445\n"
     ]
    }
   ],
   "source": [
    "lr = LogisticRegression()\n",
    "\n",
    "lr.fit(X_train, Y_train)\n",
    "Y_pred = lr.predict(X_test)\n",
    "sk_report = classification_report(digits=6, y_true=Y_test, y_pred=Y_pred)\n",
    "print(\"Accuracy\", round(accuracy_score(Y_pred, Y_test)*100,2))\n",
    "\n",
    "\n",
    "\n",
    "\n",
    "print(sk_report)\n",
    "print(pd.crosstab(Y_test, Y_pred, rownames=['Actual'], colnames=['Predicted'], margins=True))"
   ]
  },
  {
   "cell_type": "code",
   "execution_count": 26,
   "metadata": {},
   "outputs": [],
   "source": [
    "#Algorithm 2 : Decision Tree"
   ]
  },
  {
   "cell_type": "code",
   "execution_count": 27,
   "metadata": {},
   "outputs": [
    {
     "name": "stdout",
     "output_type": "stream",
     "text": [
      "Accuracy 79.3\n",
      "              precision    recall  f1-score   support\n",
      "\n",
      "           0   0.907471  0.886938  0.897087     40659\n",
      "           1   0.164105  0.183577  0.173295      2326\n",
      "           2   0.165351  0.200000  0.181033      2200\n",
      "           3   0.285305  0.308407  0.296407      2260\n",
      "\n",
      "    accuracy                       0.793045     47445\n",
      "   macro avg   0.380558  0.394730  0.386955     47445\n",
      "weighted avg   0.806980  0.793045  0.799787     47445\n",
      "\n",
      "Predicted      0     1     2     3    All\n",
      "Actual                                   \n",
      "0          36062  1721  1654  1222  40659\n",
      "1           1389   427   277   233   2326\n",
      "2           1243   226   440   291   2200\n",
      "3           1045   228   290   697   2260\n",
      "All        39739  2602  2661  2443  47445\n"
     ]
    }
   ],
   "source": [
    "decision_tree = DecisionTreeClassifier()\n",
    "decision_tree.fit(X_train, Y_train)\n",
    "Y_pred = decision_tree.predict(X_test)\n",
    "acc_decision_tree1 = round(decision_tree.score(X_test, Y_test) * 100, 2)\n",
    "sk_report = classification_report(digits=6, y_true=Y_test, y_pred=Y_pred)\n",
    "print(\"Accuracy\", acc_decision_tree1)\n",
    "print(sk_report)\n",
    "### Confusion Matrix\n",
    "print(pd.crosstab(Y_test, Y_pred, rownames=['Actual'], colnames=['Predicted'], margins=True))"
   ]
  },
  {
   "cell_type": "code",
   "execution_count": 28,
   "metadata": {},
   "outputs": [],
   "source": [
    "#Algorithm 3 : Naive Bayes"
   ]
  },
  {
   "cell_type": "code",
   "execution_count": 29,
   "metadata": {},
   "outputs": [],
   "source": [
    "#Create a Gaussian Classifier\n",
    "model = GaussianNB()\n",
    "\n",
    "# Train the model using the training sets\n",
    "model.fit(X_train,Y_train)\n",
    "\n",
    "#Predict Output\n",
    "Y_pred = model.predict(X_test)\n"
   ]
  },
  {
   "cell_type": "code",
   "execution_count": 30,
   "metadata": {},
   "outputs": [
    {
     "name": "stdout",
     "output_type": "stream",
     "text": [
      "Accuracy 85.56\n",
      "              precision    recall  f1-score   support\n",
      "\n",
      "           0   0.857040  0.998205  0.922252     40659\n",
      "           1   0.000000  0.000000  0.000000      2326\n",
      "           2   0.000000  0.000000  0.000000      2200\n",
      "           3   0.084507  0.002655  0.005148      2260\n",
      "\n",
      "    accuracy                       0.855559     47445\n",
      "   macro avg   0.235387  0.250215  0.231850     47445\n",
      "weighted avg   0.738484  0.855559  0.790589     47445\n",
      "\n",
      "Predicted      0   1   3    All\n",
      "Actual                         \n",
      "0          40586  17  56  40659\n",
      "1           2322   0   4   2326\n",
      "2           2195   0   5   2200\n",
      "3           2253   1   6   2260\n",
      "All        47356  18  71  47445\n",
      "Accuracy: 0.8555590683949836\n"
     ]
    }
   ],
   "source": [
    "sk_report = classification_report(digits=6, y_true=Y_test, y_pred=Y_pred)\n",
    "print(\"Accuracy\", round(accuracy_score(Y_pred, Y_test)*100,2))\n",
    "print(sk_report)\n",
    "print(pd.crosstab(Y_test, Y_pred, rownames=['Actual'], colnames=['Predicted'], margins=True))\n",
    "\n",
    "print(\"Accuracy:\",metrics.accuracy_score(Y_test, Y_pred))"
   ]
  },
  {
   "cell_type": "code",
   "execution_count": 31,
   "metadata": {},
   "outputs": [],
   "source": [
    "#Algorithm 4 : Random Forest"
   ]
  },
  {
   "cell_type": "code",
   "execution_count": 43,
   "metadata": {},
   "outputs": [],
   "source": [
    "random_forest = RandomForestClassifier(n_estimators=200)\n",
    "random_forest.fit(X_train,Y_train)\n",
    "Y_pred = random_forest.predict(X_test)\n",
    "random_forest.score(X_test, Y_test)\n",
    "acc_random_forest1 = round(random_forest.score(X_test, Y_test) * 100, 2)\n"
   ]
  },
  {
   "cell_type": "code",
   "execution_count": 44,
   "metadata": {},
   "outputs": [
    {
     "name": "stdout",
     "output_type": "stream",
     "text": [
      "Accuracy 85.89\n",
      "              precision    recall  f1-score   support\n",
      "\n",
      "           0   0.883068  0.982562  0.930162     40659\n",
      "           1   0.265597  0.064058  0.103221      2326\n",
      "           2   0.252427  0.070909  0.110717      2200\n",
      "           3   0.483431  0.219469  0.301887      2260\n",
      "\n",
      "    accuracy                       0.858910     47445\n",
      "   macro avg   0.471131  0.334250  0.361497     47445\n",
      "weighted avg   0.804518  0.858910  0.821697     47445\n",
      "\n"
     ]
    },
    {
     "data": {
      "text/html": [
       "<div>\n",
       "<style scoped>\n",
       "    .dataframe tbody tr th:only-of-type {\n",
       "        vertical-align: middle;\n",
       "    }\n",
       "\n",
       "    .dataframe tbody tr th {\n",
       "        vertical-align: top;\n",
       "    }\n",
       "\n",
       "    .dataframe thead th {\n",
       "        text-align: right;\n",
       "    }\n",
       "</style>\n",
       "<table border=\"1\" class=\"dataframe\">\n",
       "  <thead>\n",
       "    <tr style=\"text-align: right;\">\n",
       "      <th>Predicted</th>\n",
       "      <th>0</th>\n",
       "      <th>1</th>\n",
       "      <th>2</th>\n",
       "      <th>3</th>\n",
       "      <th>All</th>\n",
       "    </tr>\n",
       "    <tr>\n",
       "      <th>Actual</th>\n",
       "      <th></th>\n",
       "      <th></th>\n",
       "      <th></th>\n",
       "      <th></th>\n",
       "      <th></th>\n",
       "    </tr>\n",
       "  </thead>\n",
       "  <tbody>\n",
       "    <tr>\n",
       "      <th>0</th>\n",
       "      <td>39950</td>\n",
       "      <td>226</td>\n",
       "      <td>243</td>\n",
       "      <td>240</td>\n",
       "      <td>40659</td>\n",
       "    </tr>\n",
       "    <tr>\n",
       "      <th>1</th>\n",
       "      <td>1962</td>\n",
       "      <td>149</td>\n",
       "      <td>89</td>\n",
       "      <td>126</td>\n",
       "      <td>2326</td>\n",
       "    </tr>\n",
       "    <tr>\n",
       "      <th>2</th>\n",
       "      <td>1789</td>\n",
       "      <td>91</td>\n",
       "      <td>156</td>\n",
       "      <td>164</td>\n",
       "      <td>2200</td>\n",
       "    </tr>\n",
       "    <tr>\n",
       "      <th>3</th>\n",
       "      <td>1539</td>\n",
       "      <td>95</td>\n",
       "      <td>130</td>\n",
       "      <td>496</td>\n",
       "      <td>2260</td>\n",
       "    </tr>\n",
       "    <tr>\n",
       "      <th>All</th>\n",
       "      <td>45240</td>\n",
       "      <td>561</td>\n",
       "      <td>618</td>\n",
       "      <td>1026</td>\n",
       "      <td>47445</td>\n",
       "    </tr>\n",
       "  </tbody>\n",
       "</table>\n",
       "</div>"
      ],
      "text/plain": [
       "Predicted      0    1    2     3    All\n",
       "Actual                                 \n",
       "0          39950  226  243   240  40659\n",
       "1           1962  149   89   126   2326\n",
       "2           1789   91  156   164   2200\n",
       "3           1539   95  130   496   2260\n",
       "All        45240  561  618  1026  47445"
      ]
     },
     "execution_count": 44,
     "metadata": {},
     "output_type": "execute_result"
    }
   ],
   "source": [
    "sk_report = classification_report(\n",
    "    digits=6,\n",
    "    y_true=Y_test,\n",
    "    y_pred=Y_pred)\n",
    "print(\"Accuracy\" , acc_random_forest1)\n",
    "print(sk_report)\n",
    "pd.crosstab(Y_test, Y_pred, rownames=['Actual'], colnames=['Predicted'], margins=True)"
   ]
  },
  {
   "cell_type": "code",
   "execution_count": 34,
   "metadata": {},
   "outputs": [],
   "source": [
    "#Algorithm 5 : Multiple Linear Regression"
   ]
  },
  {
   "cell_type": "code",
   "execution_count": 35,
   "metadata": {},
   "outputs": [
    {
     "name": "stdout",
     "output_type": "stream",
     "text": [
      "Coefficients:  [-0.16749423  0.0023045   0.00572461  0.00322463  0.00077371  0.00026007]\n",
      "Intercept:  -1.0197815077460268\n"
     ]
    }
   ],
   "source": [
    "from sklearn import linear_model\n",
    "regr = linear_model.LinearRegression()\n",
    "regr.fit(X_train,Y_train)\n",
    "print ('Coefficients: ', regr.coef_)\n",
    "print ('Intercept: ',regr.intercept_)\n",
    "\n",
    "Y_pred=regr.predict(X_test)"
   ]
  },
  {
   "cell_type": "code",
   "execution_count": 36,
   "metadata": {},
   "outputs": [
    {
     "name": "stdout",
     "output_type": "stream",
     "text": [
      "Mean absolute error: 0.48\n",
      "Mean squared error: 0.57\n",
      "Variance score: 0.02\n",
      "r2_score 0.02152220143268857\n"
     ]
    }
   ],
   "source": [
    "print(\"Mean absolute error: %.2f\" % np.mean(np.absolute(Y_pred - Y_test)))\n",
    "# The mean squared error\n",
    "print(\"Mean squared error: %.2f\" % np.mean((Y_pred - Y_test) ** 2))\n",
    "# Explained variance score: 1 is perfect prediction\n",
    "print('Variance score: %.2f' % regr.score(X_test, Y_test))\n",
    "\n",
    "from sklearn.metrics import r2_score\n",
    "print(\"r2_score\",r2_score(Y_test, Y_pred))"
   ]
  },
  {
   "cell_type": "code",
   "execution_count": null,
   "metadata": {},
   "outputs": [],
   "source": []
  }
 ],
 "metadata": {
  "kernelspec": {
   "display_name": "Python 3",
   "language": "python",
   "name": "python3"
  },
  "language_info": {
   "codemirror_mode": {
    "name": "ipython",
    "version": 3
   },
   "file_extension": ".py",
   "mimetype": "text/x-python",
   "name": "python",
   "nbconvert_exporter": "python",
   "pygments_lexer": "ipython3",
   "version": "3.7.3"
  }
 },
 "nbformat": 4,
 "nbformat_minor": 2
}
